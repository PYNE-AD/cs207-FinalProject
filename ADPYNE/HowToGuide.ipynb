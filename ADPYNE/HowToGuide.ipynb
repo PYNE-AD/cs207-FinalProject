{
 "cells": [
  {
   "cell_type": "markdown",
   "metadata": {},
   "source": [
    "# AD-PYNE: How-to Guide\n",
    "## Automatic Differentiation Package for Python"
   ]
  },
  {
   "cell_type": "markdown",
   "metadata": {},
   "source": [
    "## Introduction"
   ]
  },
  {
   "cell_type": "markdown",
   "metadata": {},
   "source": [
    "**AD-PYNE** allows you to calculate the derivatives of complex functions by first instantiating simple `AutoDiff` objects and then building the desired functions using elementary functions and the instantiated `AutoDiff` objects."
   ]
  },
  {
   "cell_type": "markdown",
   "metadata": {},
   "source": [
    "## Table of Contents\n",
    "1. [Importing](#importing)\n",
    "2. [Forward Mode](#forward_mode)\n",
    "    1. [Scalar Functions with Single Variable of Scalar](#scalar_single)\n",
    "    2. [Scalar Functions with Single Variable of Vectors](#scalar_vector)\n",
    "    3. [Scalar Functions with Multiple Variables of Scalars](#scalar_multiple)\n",
    "    4. [Vector Functions with Single Variable of Scalar](#vector_single)\n",
    "    5. [Vector Functions with Multiple Variables of Scalars](#vector_multiple)\n",
    "3. [Dual Mode](#dual_mode)"
   ]
  },
  {
   "cell_type": "markdown",
   "metadata": {},
   "source": [
    "<a id='importing'></a>\n",
    "## Importing"
   ]
  },
  {
   "cell_type": "code",
   "execution_count": 1,
   "metadata": {},
   "outputs": [],
   "source": [
    "import numpy as np\n",
    "from ADPYNE.AutoDiff import AutoDiff, vectorize\n",
    "import ADPYNE.elemFunctions as ef"
   ]
  },
  {
   "cell_type": "markdown",
   "metadata": {},
   "source": [
    "<a id='forward_mode'></a>\n",
    "## Calculating Derivatives using Forward Mode"
   ]
  },
  {
   "cell_type": "markdown",
   "metadata": {},
   "source": [
    "<a id='scalar_single'></a> \n",
    "### Derivatives of Scalar Functions of Scalars with Single Input"
   ]
  },
  {
   "cell_type": "markdown",
   "metadata": {},
   "source": [
    "#### Instantiating an AutoDiff Object\n",
    "If your goal is to build and find the derivatives of scalar functions of a single input, follow the template below for instantiating an `AutoDiff` object. "
   ]
  },
  {
   "cell_type": "code",
   "execution_count": 2,
   "metadata": {},
   "outputs": [],
   "source": [
    "x = AutoDiff(5, 2)"
   ]
  },
  {
   "cell_type": "markdown",
   "metadata": {},
   "source": [
    "The first argument in the `AutoDiff` initialization function is the value of the function. The second argument in the `AutoDiff` initialization function is the derivative of the function. When first instantiating an AutoDiff object, this derivative is the seed. (See the **Calculating the Jacobian** section below for more detail on picking a seed.)"
   ]
  },
  {
   "cell_type": "markdown",
   "metadata": {},
   "source": [
    "Each `AutoDiff` object holds the value in `.val`, the derivative in `.der`, and the Jacobian in `.jacobian`. You can access these elements as shown below."
   ]
  },
  {
   "cell_type": "markdown",
   "metadata": {},
   "source": [
    "<div class=\"alert alert-block alert-info\">\n",
    "<b>Warning:</b> All values are stored as numpy arrays. Scalar values are stored as 1 x 1 arrays. If you need to work with Python ints or floats, you must do the conversion yourself on the returned values. Do not convert the stored elements in the objects themselves.\n",
    "</div>"
   ]
  },
  {
   "cell_type": "code",
   "execution_count": 3,
   "metadata": {},
   "outputs": [
    {
     "name": "stdout",
     "output_type": "stream",
     "text": [
      "Value:  [[5]]\n",
      "Derivative:  [[2.]]\n",
      "Jacobian:  [[1.]]\n"
     ]
    }
   ],
   "source": [
    "print(\"Value: \", x.val)\n",
    "print(\"Derivative: \", x.der)\n",
    "print(\"Jacobian: \", x.jacobian)"
   ]
  },
  {
   "cell_type": "markdown",
   "metadata": {},
   "source": [
    "You can converting the returned elements to Python ints or floats for your own purposes."
   ]
  },
  {
   "cell_type": "code",
   "execution_count": 4,
   "metadata": {},
   "outputs": [],
   "source": [
    "# Correct conversion\n",
    "theValueF = float(x.val)\n",
    "theDerivativeF = float(x.der)\n",
    "theJacobianF = float(x.jacobian)"
   ]
  },
  {
   "cell_type": "code",
   "execution_count": 5,
   "metadata": {},
   "outputs": [
    {
     "name": "stdout",
     "output_type": "stream",
     "text": [
      "Value:  5.0\n",
      "Derivative:  2.0\n",
      "Jacobian:  1.0\n"
     ]
    }
   ],
   "source": [
    "print(\"Value: \", theValueF)\n",
    "print(\"Derivative: \", theDerivativeF)\n",
    "print(\"Jacobian: \", theJacobianF)"
   ]
  },
  {
   "cell_type": "markdown",
   "metadata": {},
   "source": [
    "<div class=\"alert alert-block alert-danger\">\n",
    "<b>Example of incorrect conversion:</b>\n",
    "<br>x.val = float(x.val)\n",
    "<br>x.der = float(x.der)\n",
    "<br>x.jacobian = float(x.jacobian)\n",
    "</div>\n"
   ]
  },
  {
   "cell_type": "markdown",
   "metadata": {},
   "source": [
    "#### Calculating the Jacobian"
   ]
  },
  {
   "cell_type": "markdown",
   "metadata": {},
   "source": [
    "You have two options for calculating the jacobian of a function. "
   ]
  },
  {
   "cell_type": "markdown",
   "metadata": {},
   "source": [
    "##### Option 1 - Using a Seed of 1\n",
    "If you know that you only need the jacobian of function, you can simply initialize an `AutoDiff` object with a derivative (or seed) of 1. In this case, the derivative and jacobian of the function will be the same. "
   ]
  },
  {
   "cell_type": "code",
   "execution_count": 6,
   "metadata": {},
   "outputs": [
    {
     "name": "stdout",
     "output_type": "stream",
     "text": [
      "Value:  [[5]]\n",
      "Derivative:  [[1.]]\n",
      "Jacobian:  [[1.]]\n"
     ]
    }
   ],
   "source": [
    "x = AutoDiff(5, 1)\n",
    "\n",
    "print(\"Value: \", x.val)\n",
    "print(\"Derivative: \", x.der)\n",
    "print(\"Jacobian: \", x.jacobian)"
   ]
  },
  {
   "cell_type": "markdown",
   "metadata": {},
   "source": [
    "##### Option 2 - Using any Seed"
   ]
  },
  {
   "cell_type": "markdown",
   "metadata": {},
   "source": [
    "If you need to set the derivative of the initial `AutoDiff` object to some number other than 1, you can still find the jacobian at any time by accessing the element `.jacobian` of the `AutoDiff` object as shown in **Instantiating an AutoDiff Object**. "
   ]
  },
  {
   "cell_type": "markdown",
   "metadata": {},
   "source": [
    "#### Building Up a Function\n",
    "You may build up a function with any combination of the following elementary functions. \n",
    "\n",
    "Some of these functions are available as part of the **AutoDiff** module and do not require importing the additional **elmeFunctions** module. This functions are as follows: addition, subtraction, multiplication, division, power, absolute value, negation, and invert.\n",
    "\n",
    "All other elmentary functions require importing the **elemFunctions** module. These functions are: (natural) exponential, (natural) log, log base 10, square root, absolute value, sine, cosine, tangent, arc sine, arc cosine, arc tangent, hyperbolic sine, hyperbolic cosine, hyperbolic tangent, hyperbolic arc sine, hyperbolic arc cosine, and hyperbolic arc tangent.\n",
    "\n",
    "To build up the function, pass in the AutoDiff object into the elemenary functions or manipulate the AutoDiff object using Python operations. Store the function in a variable. "
   ]
  },
  {
   "cell_type": "markdown",
   "metadata": {},
   "source": [
    "##### Example 1"
   ]
  },
  {
   "cell_type": "code",
   "execution_count": 7,
   "metadata": {},
   "outputs": [],
   "source": [
    "x = AutoDiff(3, 2)\n",
    "f = x**3 - 5*x**-2 + 2*x + 5"
   ]
  },
  {
   "cell_type": "code",
   "execution_count": 8,
   "metadata": {},
   "outputs": [
    {
     "name": "stdout",
     "output_type": "stream",
     "text": [
      "Value:  [[37.44444444]]\n",
      "Derivative:  [[58.74074074]]\n",
      "Jacobian:  [[29.37037037]]\n"
     ]
    }
   ],
   "source": [
    "print(\"Value: \", f.val)\n",
    "print(\"Derivative: \", f.der)\n",
    "print(\"Jacobian: \", f.jacobian)"
   ]
  },
  {
   "cell_type": "markdown",
   "metadata": {},
   "source": [
    "In the example above, the AutoDiff object `x` is initialized with a value of 3 and a seed of 2 for its derivative. Each operation on `x` produces a new AutoDiff function. Any number of elementary functions and operations can be done in a single line and stored in a single AutoDiff function. "
   ]
  },
  {
   "cell_type": "markdown",
   "metadata": {},
   "source": [
    "##### Example 2"
   ]
  },
  {
   "cell_type": "markdown",
   "metadata": {},
   "source": [
    "Building up the function piece by piece is also valid and will produce the same results. "
   ]
  },
  {
   "cell_type": "code",
   "execution_count": 9,
   "metadata": {},
   "outputs": [],
   "source": [
    "x = AutoDiff(3, 2)\n",
    "f = x**3\n",
    "g = -5*x**-2\n",
    "h = 2*x + 5\n",
    "fgh = f + g + h"
   ]
  },
  {
   "cell_type": "code",
   "execution_count": 10,
   "metadata": {},
   "outputs": [
    {
     "name": "stdout",
     "output_type": "stream",
     "text": [
      "Value:  [[37.44444444]]\n",
      "Derivative:  [[58.74074074]]\n",
      "Jacobian:  [[29.37037037]]\n"
     ]
    }
   ],
   "source": [
    "print(\"Value: \", fgh.val)\n",
    "print(\"Derivative: \", fgh.der)\n",
    "print(\"Jacobian: \", fgh.jacobian)"
   ]
  },
  {
   "cell_type": "markdown",
   "metadata": {},
   "source": [
    "##### Example 3\n",
    "Call and use the elmentary functions in the **elemFunctions** as you would any other function."
   ]
  },
  {
   "cell_type": "code",
   "execution_count": 12,
   "metadata": {},
   "outputs": [
    {
     "name": "stdout",
     "output_type": "stream",
     "text": [
      "Value:  [[-0.90268536]]\n",
      "Derivative:  [[1.73805807]]\n",
      "Jacobian:  [[3.47611614]]\n"
     ]
    }
   ],
   "source": [
    "x = AutoDiff(np.pi, 0.5, 1)\n",
    "\n",
    "f = ef.sin(x) + ef.cos(x**2) + ef.tan(x)*ef.sqrt(x)\n",
    "\n",
    "print(\"Value: \", f.val)\n",
    "print(\"Derivative: \", f.der)\n",
    "print(\"Jacobian: \", f.jacobian)"
   ]
  },
  {
   "cell_type": "markdown",
   "metadata": {},
   "source": [
    "<a id='scalar_vector'></a> \n",
    "### Derivatives of Scalar Functions of Vector Inputs for Single Variable"
   ]
  },
  {
   "cell_type": "markdown",
   "metadata": {},
   "source": [
    "This section assumes you have some familiarity with the concepts covered in [Scalar Functions with Single Input](#scalar_single)."
   ]
  },
  {
   "cell_type": "markdown",
   "metadata": {},
   "source": [
    "#### Instantiating an AutoDiff Object\n",
    "\n",
    "You may instantiate an AutoDiff object for a scalar function with a vector of inputs for a single variable. \n",
    "\n",
    "For example, you would like to evaluate the derivative of a function at the following points: x = \\[-2, -1, 0, 1, 2\\]. "
   ]
  },
  {
   "cell_type": "code",
   "execution_count": 12,
   "metadata": {},
   "outputs": [],
   "source": [
    "x = AutoDiff([-2, -1, 0, 1, 2], 2)"
   ]
  },
  {
   "cell_type": "code",
   "execution_count": 13,
   "metadata": {},
   "outputs": [
    {
     "name": "stdout",
     "output_type": "stream",
     "text": [
      "Value:\n",
      " [[-2]\n",
      " [-1]\n",
      " [ 0]\n",
      " [ 1]\n",
      " [ 2]]\n",
      "Derivative:\n",
      " [[2.]\n",
      " [2.]\n",
      " [2.]\n",
      " [2.]\n",
      " [2.]]\n",
      "Jacobian:\n",
      " [[1.]\n",
      " [1.]\n",
      " [1.]\n",
      " [1.]\n",
      " [1.]]\n"
     ]
    }
   ],
   "source": [
    "print(\"Value:\\n\", x.val)\n",
    "print(\"Derivative:\\n\", x.der)\n",
    "print(\"Jacobian:\\n\", x.jacobian)"
   ]
  },
  {
   "cell_type": "markdown",
   "metadata": {},
   "source": [
    "#### Building Up a Function\n",
    "You can build up a scalar function with vector inputs as you would a scalar function with a scalar input. "
   ]
  },
  {
   "cell_type": "code",
   "execution_count": 14,
   "metadata": {},
   "outputs": [
    {
     "name": "stdout",
     "output_type": "stream",
     "text": [
      "Value:\n",
      " [[-8.25]\n",
      " [-3.  ]\n",
      " [ -inf]\n",
      " [ 3.  ]\n",
      " [15.75]]\n",
      "Derivative:\n",
      " [[ 25.5]\n",
      " [-10. ]\n",
      " [  inf]\n",
      " [ 30. ]\n",
      " [ 30.5]]\n",
      "Jacobian:\n",
      " [[12.75]\n",
      " [-5.  ]\n",
      " [  inf]\n",
      " [15.  ]\n",
      " [15.25]]\n"
     ]
    }
   ],
   "source": [
    "f = x**3 - 5*x**-2 + 2*x + 5\n",
    "print(\"Value:\\n\", f.val)\n",
    "print(\"Derivative:\\n\", f.der)\n",
    "print(\"Jacobian:\\n\", f.jacobian)"
   ]
  },
  {
   "cell_type": "markdown",
   "metadata": {},
   "source": [
    "A warning will appear if any of the derivatives cannot be evaluating because of dividing by 0. "
   ]
  },
  {
   "cell_type": "markdown",
   "metadata": {},
   "source": [
    "<a id='scalar_multiple'></a> \n",
    "### Derivatives of Scalar Functions of Multiple Variables of Scalars"
   ]
  },
  {
   "cell_type": "markdown",
   "metadata": {},
   "source": [
    "This section assumes you have some familiarity with the concepts covered in [Scalar Functions with Single Input](#scalar_single)."
   ]
  },
  {
   "cell_type": "markdown",
   "metadata": {},
   "source": [
    "#### Instantiating an AutoDiff Object\n",
    "\n",
    "You may instantiate an AutoDiff object for a scalar function with multiple variables of scalars. \n",
    "\n",
    "For example, you would like to evaluate the partial derivatives of the following function:\n",
    "$ f(x, y, z) = 3x^2 + xy^2 - 2z^3 $\n",
    "\n",
    "You may instantiate an AutoDiff object for each variable $x$, $y$, $z$. You must instantiate a value and seed for each variable. You must pass in the total number of variables you will ultimately use in your function(s). You must also denote that the variable is the $k^{th}$ variable in the function."
   ]
  },
  {
   "cell_type": "code",
   "execution_count": 19,
   "metadata": {},
   "outputs": [],
   "source": [
    "x = AutoDiff(3, 2, n=3, k=1)"
   ]
  },
  {
   "cell_type": "markdown",
   "metadata": {},
   "source": [
    "In this way, the AutoDiff object knows that the value and derivative of $x$ should be the first column in the jacobian. "
   ]
  },
  {
   "cell_type": "code",
   "execution_count": 24,
   "metadata": {},
   "outputs": [],
   "source": [
    "y = AutoDiff(-1, 2, n=3, k=2)\n",
    "z = AutoDiff(1, 2, n=3, k=3)"
   ]
  },
  {
   "cell_type": "markdown",
   "metadata": {},
   "source": [
    "The value and deriative of $y$ is the second column in the jacobian. The value and derivative of $z$ is the third column in the jacobian."
   ]
  },
  {
   "cell_type": "markdown",
   "metadata": {},
   "source": [
    "#### Building up a Function"
   ]
  },
  {
   "cell_type": "code",
   "execution_count": 26,
   "metadata": {},
   "outputs": [
    {
     "name": "stdout",
     "output_type": "stream",
     "text": [
      "Value:\n",
      " [[28.]]\n",
      "Derivative:\n",
      " [[ 38. -12. -12.]]\n",
      "Jacobian:\n",
      " [[19. -6. -6.]]\n"
     ]
    }
   ],
   "source": [
    "f = 3*x**2 + x*(y**2) - 2*z**3\n",
    "print(\"Value:\\n\", f.val)\n",
    "print(\"Derivative:\\n\", f.der)\n",
    "print(\"Jacobian:\\n\", f.jacobian)"
   ]
  },
  {
   "cell_type": "markdown",
   "metadata": {},
   "source": [
    "The partial derivatives of $x$,$y$, and $z$ are the first, second, and third columns, respectively. \n",
    "\n",
    "\n",
    "$\\left[\\begin{array}{ccc}\n",
    "\\frac{\\partial f}{\\partial x} && \\frac{\\partial f}{\\partial y} \n",
    "&& \\frac{\\partial f}{\\partial z}\n",
    "\\end{array}\\right]$"
   ]
  },
  {
   "cell_type": "markdown",
   "metadata": {},
   "source": [
    "<a id='vector_single'></a> \n",
    "### Derivatives of Vector Functions of Single Variables with Scalar Inputs"
   ]
  },
  {
   "cell_type": "markdown",
   "metadata": {},
   "source": [
    "This section assumes you have some familiarity with the concepts covered in [Scalar Functions with Single Input](#scalar_single)."
   ]
  },
  {
   "cell_type": "markdown",
   "metadata": {},
   "source": [
    "#### Instantiating an AutoDiff Object\n",
    "You may instantiate an AutoDiff object for a vector function with a single input. \n",
    "\n",
    "For example, you would like to evaluate the derivative the following vector function:\n",
    "\n",
    "$\\left[\\begin{array}{c}\n",
    "x^2 + 3x - 2\\\\\n",
    "e^{-10x} \\\\\n",
    "cos(x) + sin(x)\n",
    "\\end{array}\\right]$\n",
    "\n",
    "You would instantiate the AutoDiff object as before."
   ]
  },
  {
   "cell_type": "code",
   "execution_count": 15,
   "metadata": {},
   "outputs": [],
   "source": [
    "x = AutoDiff(0, 2)"
   ]
  },
  {
   "cell_type": "markdown",
   "metadata": {},
   "source": [
    "#### Building Up a Vector Function\n",
    "\n",
    "You may build up a vector function in a variety fo ways. "
   ]
  },
  {
   "cell_type": "markdown",
   "metadata": {},
   "source": [
    "##### Example 1\n",
    "You may build up a vector function by building each function individually and then calling the function `vectorize`. "
   ]
  },
  {
   "cell_type": "code",
   "execution_count": 16,
   "metadata": {},
   "outputs": [
    {
     "name": "stdout",
     "output_type": "stream",
     "text": [
      "Value:\n",
      " [[-2.]\n",
      " [ 1.]\n",
      " [ 1.]]\n",
      "Derivative:\n",
      " [[  6.]\n",
      " [-20.]\n",
      " [  2.]]\n",
      "Jacobian:\n",
      " [[  3.]\n",
      " [-10.]\n",
      " [  1.]]\n"
     ]
    }
   ],
   "source": [
    "f1 = x**2 + 3*x - 2\n",
    "f2 = ef.exp(-10*x)\n",
    "f3 = ef.cos(x) + ef.sin(x)\n",
    "\n",
    "f = vectorize([f1, f2, f3])\n",
    "\n",
    "print(\"Value:\\n\", f.val)\n",
    "print(\"Derivative:\\n\", f.der)\n",
    "print(\"Jacobian:\\n\", f.jacobian)"
   ]
  },
  {
   "cell_type": "markdown",
   "metadata": {},
   "source": [
    "The derivative is given in the following form:\n",
    "\n",
    "$\\left[\\begin{array}{c}\n",
    "\\frac{\\partial f}{\\partial x}  \\\\\n",
    "\\frac{\\partial f}{\\partial x} \\\\\n",
    "\\frac{\\partial f}{\\partial x}\n",
    "\\end{array}\\right]$"
   ]
  },
  {
   "cell_type": "markdown",
   "metadata": {},
   "source": [
    "##### Example 2\n",
    "You may build up a vector function by creating a list of functions and calling the function `vectorize` on that list."
   ]
  },
  {
   "cell_type": "code",
   "execution_count": 17,
   "metadata": {},
   "outputs": [
    {
     "name": "stdout",
     "output_type": "stream",
     "text": [
      "Value:\n",
      " [[-2.]\n",
      " [ 1.]\n",
      " [ 1.]]\n",
      "Derivative:\n",
      " [[  6.]\n",
      " [-20.]\n",
      " [  2.]]\n",
      "Jacobian:\n",
      " [[  3.]\n",
      " [-10.]\n",
      " [  1.]]\n"
     ]
    }
   ],
   "source": [
    "fs = [x**2 + 3*x - 2, ef.exp(-10*x), ef.cos(x) + ef.sin(x)]\n",
    "\n",
    "f = vectorize(fs)\n",
    "\n",
    "print(\"Value:\\n\", f.val)\n",
    "print(\"Derivative:\\n\", f.der)\n",
    "print(\"Jacobian:\\n\", f.jacobian)"
   ]
  },
  {
   "cell_type": "markdown",
   "metadata": {},
   "source": [
    "<a id='vector_multiple'></a> \n",
    "### Derivatives of Vector Functions of Multiple Variables with Scalar Inputs"
   ]
  },
  {
   "cell_type": "markdown",
   "metadata": {},
   "source": [
    "This section assumes you have some familiarity with the concepts covered in [Scalar Functions with Single Variable of Scalar](#scalar_single) and [Vector Functions with Single Variable of Scalar](#vector_single)"
   ]
  },
  {
   "cell_type": "markdown",
   "metadata": {},
   "source": [
    "#### Instantiating an AutoDiff Object\n",
    "You may instantiate an AutoDiff object for a vector function with a multiple scalar inputs. \n",
    "\n",
    "For example, you would like to evaluate the partial derivatives for the following vector function:\n",
    "\n",
    "$\\left[\\begin{array}{c}\n",
    "3x^2 + xy^2 - 2z^3\\\\\n",
    "ye^{x} \\\\\n",
    "cos(xz) + sin(\\frac{y}{z})\n",
    "\\end{array}\\right]$\n",
    "\n",
    "You would instantiate the AutoDiff object as before in the multiple variable case."
   ]
  },
  {
   "cell_type": "code",
   "execution_count": 2,
   "metadata": {},
   "outputs": [],
   "source": [
    "x = AutoDiff(3, 2, n=3, k=1)\n",
    "y = AutoDiff(-2, 2, n=3, k=2)\n",
    "z = AutoDiff(1, 2, n=3, k=3)"
   ]
  },
  {
   "cell_type": "markdown",
   "metadata": {},
   "source": [
    "#### Building Up a Vector Function\n",
    "Create functions as before."
   ]
  },
  {
   "cell_type": "code",
   "execution_count": 4,
   "metadata": {},
   "outputs": [],
   "source": [
    "f1 = 3*x**2 + x*y**2 - 2*z**3\n",
    "f2 = y*ef.exp(x)\n",
    "f3 = ef.cos(x*z) + ef.sin(y/z)"
   ]
  },
  {
   "cell_type": "markdown",
   "metadata": {},
   "source": [
    "When using the vectorize function, pass in the number of inputs."
   ]
  },
  {
   "cell_type": "code",
   "execution_count": 5,
   "metadata": {},
   "outputs": [
    {
     "name": "stdout",
     "output_type": "stream",
     "text": [
      "Value:\n",
      " [[ 37.        ]\n",
      " [-40.17107385]\n",
      " [ -1.89928992]]\n",
      "Derivative:\n",
      " [[ 44.         -24.         -12.        ]\n",
      " [-80.34214769  40.17107385   0.        ]\n",
      " [ -0.28224002  -0.83229367  -2.51130739]]\n",
      "Jacobian:\n",
      " [[ 22.         -12.          -6.        ]\n",
      " [-40.17107385  20.08553692   0.        ]\n",
      " [ -0.14112001  -0.41614684  -1.2556537 ]]\n"
     ]
    }
   ],
   "source": [
    "f = vectorize([f1, f2, f3], n_inputs = 3)\n",
    "\n",
    "print(\"Value:\\n\", f.val)\n",
    "print(\"Derivative:\\n\", f.der)\n",
    "print(\"Jacobian:\\n\", f.jacobian)"
   ]
  },
  {
   "cell_type": "markdown",
   "metadata": {},
   "source": [
    "The derivative is given in the following form:\n",
    "\n",
    "$\\left[\\begin{array}{ccc}\n",
    "\\frac{\\partial f_1}{\\delta x} && \\frac{\\partial f_1}{\\partial y} \n",
    "&& \\frac{\\partial f_1}{\\partial z} \\\\\n",
    "\\frac{\\partial f_2}{d x} && \\frac{\\partial f_2}{\\partial y} \n",
    "&& \\frac{\\partial f_2}{d z} \\\\\n",
    "\\frac{\\partial f_3}{\\partial x} && \\frac{\\partial f_3}{\\partial y} \n",
    "&& \\frac{\\partial f_3}{\\partial z}\n",
    "\\end{array}\\right]$"
   ]
  },
  {
   "cell_type": "markdown",
   "metadata": {},
   "source": [
    "<a id='dual_mode'></a>\n",
    "## Calculating Derivatives using Dual Mode"
   ]
  },
  {
   "cell_type": "code",
   "execution_count": null,
   "metadata": {},
   "outputs": [],
   "source": []
  }
 ],
 "metadata": {
  "kernelspec": {
   "display_name": "Python 3",
   "language": "python",
   "name": "python3"
  },
  "language_info": {
   "codemirror_mode": {
    "name": "ipython",
    "version": 3
   },
   "file_extension": ".py",
   "mimetype": "text/x-python",
   "name": "python",
   "nbconvert_exporter": "python",
   "pygments_lexer": "ipython3",
   "version": "3.7.3"
  }
 },
 "nbformat": 4,
 "nbformat_minor": 2
}
