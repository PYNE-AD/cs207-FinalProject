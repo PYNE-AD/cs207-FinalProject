{
 "cells": [
  {
   "cell_type": "markdown",
   "metadata": {},
   "source": [
    "# AD-PYNE: How-to Guide\n",
    "## Automatic Differentiation Package for Python"
   ]
  },
  {
   "cell_type": "markdown",
   "metadata": {},
   "source": [
    "## Introduction"
   ]
  },
  {
   "cell_type": "markdown",
   "metadata": {},
   "source": [
    "**AD-PYNE** allows you to calculate the derivatives of complex functions by first instantiating simple `AutoDiff` objects and then building the desired functions using elementary functions and the instantiated `AutoDiff` objects."
   ]
  },
  {
   "cell_type": "markdown",
   "metadata": {},
   "source": [
    "## Importing"
   ]
  },
  {
   "cell_type": "code",
   "execution_count": 1,
   "metadata": {},
   "outputs": [],
   "source": [
    "from ADPYNE.AutoDiff import AutoDiff\n",
    "import ADPYNE.elemFunctions as ef"
   ]
  },
  {
   "cell_type": "markdown",
   "metadata": {},
   "source": [
    "## Calculating Derivatives using Forward Mode"
   ]
  },
  {
   "cell_type": "markdown",
   "metadata": {},
   "source": [
    "### Derivatives of Scalar Functions of Scalars with Single Input"
   ]
  },
  {
   "cell_type": "markdown",
   "metadata": {},
   "source": [
    "#### Instantiating an AutoDiff Object\n",
    "If your goal is to build and find the derivatives of scalar functions of a single input, follow the template below for instantiating an `AutoDiff` object. "
   ]
  },
  {
   "cell_type": "code",
   "execution_count": 2,
   "metadata": {},
   "outputs": [],
   "source": [
    "x = AutoDiff(5, 2)"
   ]
  },
  {
   "cell_type": "markdown",
   "metadata": {},
   "source": [
    "The first argument in the `AutoDiff` initialization function is the value of the function. The second argument in the `AutoDiff` initialization function is the derivative of the function. When first instantiating an AutoDiff object, this derivative is the seed. (See the **Calculating the Jacobian** section below for more detail on picking a seed.)"
   ]
  },
  {
   "cell_type": "markdown",
   "metadata": {},
   "source": [
    "Each `AutoDiff` object holds the value in `.val`, the derivative in `.der`, and the Jacobian in `.jacobian`. You can access these elements as shown below."
   ]
  },
  {
   "cell_type": "markdown",
   "metadata": {},
   "source": [
    "<div class=\"alert alert-block alert-info\">\n",
    "<b>Warning:</b> All values are stored as numpy arrays. Scalar values are stored as 1 x 1 arrays. If you need to work with Python ints or floats, you must do the conversion yourself on the returned values. Do not convert the stored elements in the objects themselves.\n",
    "</div>"
   ]
  },
  {
   "cell_type": "code",
   "execution_count": 3,
   "metadata": {},
   "outputs": [
    {
     "name": "stdout",
     "output_type": "stream",
     "text": [
      "Value:  [[5]]\n",
      "Derivative:  [[2.]]\n",
      "Jacobian:  [[1.]]\n"
     ]
    }
   ],
   "source": [
    "print(\"Value: \", x.val)\n",
    "print(\"Derivative: \", x.der)\n",
    "print(\"Jacobian: \", x.jacobian)"
   ]
  },
  {
   "cell_type": "markdown",
   "metadata": {},
   "source": [
    "You can converting the returned elements to Python ints or floats for your own purposes."
   ]
  },
  {
   "cell_type": "code",
   "execution_count": 4,
   "metadata": {},
   "outputs": [],
   "source": [
    "# Correct conversion\n",
    "theValueF = float(x.val)\n",
    "theDerivativeF = float(x.der)\n",
    "theJacobianF = float(x.jacobian)"
   ]
  },
  {
   "cell_type": "code",
   "execution_count": 5,
   "metadata": {},
   "outputs": [
    {
     "name": "stdout",
     "output_type": "stream",
     "text": [
      "Value:  5.0\n",
      "Derivative:  2.0\n",
      "Jacobian:  1.0\n"
     ]
    }
   ],
   "source": [
    "print(\"Value: \", theValueF)\n",
    "print(\"Derivative: \", theDerivativeF)\n",
    "print(\"Jacobian: \", theJacobianF)"
   ]
  },
  {
   "cell_type": "markdown",
   "metadata": {},
   "source": [
    "<div class=\"alert alert-block alert-danger\">\n",
    "<b>Example of incorrect conversion:</b>\n",
    "<br>x.val = float(x.val)\n",
    "<br>x.der = float(x.der)\n",
    "<br>x.jacobian = float(x.jacobian)\n",
    "</div>\n"
   ]
  },
  {
   "cell_type": "markdown",
   "metadata": {},
   "source": [
    "#### Calculating the Jacobian"
   ]
  },
  {
   "cell_type": "markdown",
   "metadata": {},
   "source": [
    "You have two options for calculating the jacobian of a function. "
   ]
  },
  {
   "cell_type": "markdown",
   "metadata": {},
   "source": [
    "##### Option 1 - Using a Seed of 1\n",
    "If you know that you only need the jacobian of function, you can simply initialize an `AutoDiff` object with a derivative (or seed) of 1. In this case, the derivative and jacobian of the function will be the same. "
   ]
  },
  {
   "cell_type": "code",
   "execution_count": 6,
   "metadata": {},
   "outputs": [
    {
     "name": "stdout",
     "output_type": "stream",
     "text": [
      "Value:  [[5]]\n",
      "Derivative:  [[1.]]\n",
      "Jacobian:  [[1.]]\n"
     ]
    }
   ],
   "source": [
    "x = AutoDiff(5, 1)\n",
    "\n",
    "print(\"Value: \", x.val)\n",
    "print(\"Derivative: \", x.der)\n",
    "print(\"Jacobian: \", x.jacobian)"
   ]
  },
  {
   "cell_type": "markdown",
   "metadata": {},
   "source": [
    "##### Option 2 - Using any Seed"
   ]
  },
  {
   "cell_type": "markdown",
   "metadata": {},
   "source": [
    "If you need to set the derivative of the initial `AutoDiff` object to some number other than 1, you can still find the jacobian at any time by accessing the element `.jacobian` of the `AutoDiff` object as shown in **Instantiating an AutoDiff Object**. "
   ]
  },
  {
   "cell_type": "markdown",
   "metadata": {},
   "source": [
    "#### Building Up a Function\n",
    "You may build up a function with any combination of the following elementary functions. \n",
    "\n",
    "Some of these functions are available as part of the **AutoDiff** module and do not require importing the additional **elmeFunctions** module. This functions are as follows: addition, subtraction, multiplication, division, power, absolute value, negation, and invert.\n",
    "\n",
    "All other elmentary functions require importing the **elemFunctions** module. These functions are: (natural) exponential, (natural) log, log base 10, square root, absolute value, sine, cosine, tangent, arc sine, arc cosine, arc tangent, hyperbolic sine, hyperbolic cosine, hyperbolic tangent, hyperbolic arc sine, hyperbolic arc cosine, and hyperbolic arc tangent.\n",
    "\n",
    "To build up the function, pass in the AutoDiff object into the elemenary functions or manipulate the AutoDiff object using Python operations. Store the function in a variable. "
   ]
  },
  {
   "cell_type": "markdown",
   "metadata": {},
   "source": [
    "##### Example 1"
   ]
  },
  {
   "cell_type": "code",
   "execution_count": 7,
   "metadata": {},
   "outputs": [],
   "source": [
    "x = AutoDiff(3, 2)\n",
    "f = x**3 - 5*x**-2 + 2*x + 5"
   ]
  },
  {
   "cell_type": "code",
   "execution_count": 8,
   "metadata": {},
   "outputs": [
    {
     "name": "stdout",
     "output_type": "stream",
     "text": [
      "Value:  [[37.44444444]]\n",
      "Derivative:  [[58.74074074]]\n",
      "Jacobian:  [[29.37037037]]\n"
     ]
    }
   ],
   "source": [
    "print(\"Value: \", f.val)\n",
    "print(\"Derivative: \", f.der)\n",
    "print(\"Jacobian: \", f.jacobian)"
   ]
  },
  {
   "cell_type": "markdown",
   "metadata": {},
   "source": [
    "In the example above, the AutoDiff object `x` is initialized with a value of 3 and a seed of 2 for its derivative. Each operation on `x` produces a new AutoDiff function. Any number of elementary functions and operations can be done in a single line and stored in a single AutoDiff function. "
   ]
  },
  {
   "cell_type": "markdown",
   "metadata": {},
   "source": [
    "##### Example 2"
   ]
  },
  {
   "cell_type": "markdown",
   "metadata": {},
   "source": [
    "Building up the function piece by piece is also valid and will produce the same results. "
   ]
  },
  {
   "cell_type": "code",
   "execution_count": 9,
   "metadata": {},
   "outputs": [],
   "source": [
    "x = AutoDiff(3, 2)\n",
    "f = x**3\n",
    "g = -5*x**-2\n",
    "h = 2*x + 5\n",
    "fgh = f + g + h"
   ]
  },
  {
   "cell_type": "code",
   "execution_count": 10,
   "metadata": {},
   "outputs": [
    {
     "name": "stdout",
     "output_type": "stream",
     "text": [
      "Value:  [[37.44444444]]\n",
      "Derivative:  [[58.74074074]]\n",
      "Jacobian:  [[29.37037037]]\n"
     ]
    }
   ],
   "source": [
    "print(\"Value: \", fgh.val)\n",
    "print(\"Derivative: \", fgh.der)\n",
    "print(\"Jacobian: \", fgh.jacobian)"
   ]
  },
  {
   "cell_type": "markdown",
   "metadata": {},
   "source": [
    "##### Example 3\n",
    "Call and use the elmentary functions in the **elemFunctions** as you would any other function."
   ]
  },
  {
   "cell_type": "code",
   "execution_count": 12,
   "metadata": {},
   "outputs": [
    {
     "name": "stdout",
     "output_type": "stream",
     "text": [
      "Value:  [[-0.90268536]]\n",
      "Derivative:  [[1.73805807]]\n",
      "Jacobian:  [[3.47611614]]\n"
     ]
    }
   ],
   "source": [
    "x = AutoDiff(np.pi, 0.5, 1)\n",
    "\n",
    "f = ef.sin(x) + ef.cos(x**2) + ef.tan(x)*ef.sqrt(x)\n",
    "\n",
    "print(\"Value: \", f.val)\n",
    "print(\"Derivative: \", f.der)\n",
    "print(\"Jacobian: \", f.jacobian)"
   ]
  },
  {
   "cell_type": "code",
   "execution_count": null,
   "metadata": {},
   "outputs": [],
   "source": []
  }
 ],
 "metadata": {
  "kernelspec": {
   "display_name": "Python 3",
   "language": "python",
   "name": "python3"
  },
  "language_info": {
   "codemirror_mode": {
    "name": "ipython",
    "version": 3
   },
   "file_extension": ".py",
   "mimetype": "text/x-python",
   "name": "python",
   "nbconvert_exporter": "python",
   "pygments_lexer": "ipython3",
   "version": "3.7.3"
  }
 },
 "nbformat": 4,
 "nbformat_minor": 2
}
