{
 "cells": [
  {
   "cell_type": "markdown",
   "metadata": {},
   "source": [
    "# Implementing dual numbers is with matrices\n",
    "The dual number a+bϵ can be encoded as:\n",
    "$$\n",
    "\\left(\\begin{array}{ll}{a} & {b} \\\\ {0} & {a}\\end{array}\\right)\n",
    "$$\n",
    "This encoding has the properties ϵ≠0 and ϵ2=0:\n",
    "$$\n",
    "\\left(\\begin{array}{ll}{0} & {1} \\\\ {0} & {0}\\end{array}\\right)^{2}=\\left(\\begin{array}{ll}{0} & {0} \\\\ {0} & {0}\\end{array}\\right)\n",
    "$$\n",
    "Furthermore, they add, multiply and divide like dual numbers:\n",
    "$$\n",
    "\\left(\\begin{array}{ll}{3} & {1} \\\\ {0} & {3}\\end{array}\\right)\\left(\\begin{array}{ll}{3} & {1} \\\\ {0} & {3}\\end{array}\\right)=\\left(\\begin{array}{ll}{9} & {6} \\\\ {0} & {9}\\end{array}\\right)\n",
    "$$"
   ]
  },
  {
   "cell_type": "markdown",
   "metadata": {},
   "source": [
    "# Extend to higher-order derivatives\n",
    "To compute second derivatives, we need to carry out the Taylor series expansion one step further. So instead of $ϵ^2$=0, we need $ϵ^3$=0 and ϵ≠$ϵ^2$. Then we get numbers of the form a+bϵ+c$ϵ^2$.Now we get\n",
    "$$\n",
    "a+b \\epsilon+c \\epsilon^{2}=\\left(\\begin{array}{lll}{a} & {b} & {c} \\\\ {0} & {a} & {b} \\\\ {0} & {0} & {a}\\end{array}\\right)\n",
    "$$\n",
    "It encodes the properties we want:\n",
    "$$\n",
    "\\left(\\begin{array}{lll}{0} & {1} & {0} \\\\ {0} & {0} & {1} \\\\ {0} & {0} & {0}\\end{array}\\right)^{2}=\\left(\\begin{array}{lll}{0} & {0} & {1} \\\\ {0} & {0} & {0} \\\\ {0} & {0} & {0}\\end{array}\\right) \\quad\\left(\\begin{array}{lll}{0} & {1} & {0} \\\\ {0} & {0} & {1} \\\\ {0} & {0} & {0}\\end{array}\\right)^{3}=\\left(\\begin{array}{lll}{0} & {0} & {0} \\\\ {0} & {0} & {0} \\\\ {0} & {0} & {0}\\end{array}\\right)\n",
    "$$\n",
    "If we want 3rd derivatives, we need a 4 x 4 matrix:\n",
    "$$\n",
    "a+b \\epsilon+c \\epsilon^{2}+d \\epsilon^{3}=\\left(\\begin{array}{llll}{a} & {b} & {c} & {d} \\\\ {0} & {a} & {b} & {c} \\\\ {0} & {0} & {a} & {b} \\\\ {0} & {0} & {0} & {a}\\end{array}\\right)\n",
    "$$\n",
    "We can extend this technique to any order derivative you want."
   ]
  },
  {
   "cell_type": "markdown",
   "metadata": {},
   "source": [
    "# Pseudocode\n",
    "## (if we want to get the 2nd derivative of $y = x^2$ at x = 3)"
   ]
  },
  {
   "cell_type": "code",
   "execution_count": 10,
   "metadata": {},
   "outputs": [],
   "source": [
    "import numpy as np\n",
    "\n",
    "# Dual class to get the dual number\n",
    "class Dual():\n",
    "    def __init__(self, order_of_derivative, x_value):\n",
    "        self.order_of_derivative = order_of_derivative\n",
    "        self.x_value = x_value\n",
    "        \n",
    "    def get_matrix(self):\n",
    "        n = self.order_of_derivative\n",
    "        A = self.x_value*np.identity(n)\n",
    "        A[0, n-1] = 1\n",
    "        return A"
   ]
  },
  {
   "cell_type": "code",
   "execution_count": 17,
   "metadata": {},
   "outputs": [
    {
     "name": "stdout",
     "output_type": "stream",
     "text": [
      "[[9. 6.]\n",
      " [0. 9.]]\n",
      "6.0\n"
     ]
    }
   ],
   "source": [
    "import numpy as np\n",
    "from numpy.linalg import matrix_power\n",
    "#from Dual import Dual\n",
    "#from elemFunctions import elemFunctions\n",
    "\n",
    "A = Dual(2, 3)\n",
    "A_matrix = A.get_matrix()\n",
    "\n",
    "Y = matrix_power(A_matrix, 2)\n",
    "print(Y)\n",
    "second_derivative = Y[0,1]\n",
    "print(second_derivative)"
   ]
  },
  {
   "cell_type": "markdown",
   "metadata": {},
   "source": [
    "# Problems\n",
    "We can use this matrix to do easy operations, but not for more complicated operations, like sin, exp, and so on, so we need to overload these elemental functions for Dual Number. Wht I am think is using Taylor Series to translate the sin, exp, ... operations to simple operations, and then do the Numpy Martix operations.\n",
    "Take $e^{x}$ for example\n",
    "$$\n",
    "\\begin{aligned} e^{x} &=1+x+\\frac{x^{2}}{2 !}+\\frac{x^{3}}{3 !}+\\frac{x^{4}}{4 !}+\\cdots \\\\ &=\\sum_{n=0}^{\\infty} \\frac{x^{n}}{n !} \\end{aligned}\n",
    "$$\n",
    "In the code, we can not add it to infinity, so we have to do the approximation. So for $e^{x}$, the elemental function shuold be something like this"
   ]
  },
  {
   "cell_type": "code",
   "execution_count": 23,
   "metadata": {},
   "outputs": [
    {
     "name": "stdout",
     "output_type": "stream",
     "text": [
      "20.08553691196314\n"
     ]
    }
   ],
   "source": [
    "import numpy as np\n",
    "from numpy.linalg import matrix_power\n",
    "\n",
    "def exp():\n",
    "    e_to_2 = 0\n",
    "    for i in range(20): # you can set it higher than 20 to better estimate the derivative\n",
    "        e_to_2 += matrix_power(A_matrix, i)/math.factorial(i)\n",
    "    return e_to_2\n",
    "    \n",
    "second_derivative = exp()[0, 1]\n",
    "print(second_derivative)"
   ]
  },
  {
   "cell_type": "markdown",
   "metadata": {},
   "source": [
    "And we can do the same thing for sin, cos, .... So the biggest work is to implement the elemental functions based on the Taylor series:"
   ]
  },
  {
   "cell_type": "markdown",
   "metadata": {},
   "source": [
    "$$\n",
    "\\begin{aligned} \\cos x &=1-\\frac{x^{2}}{2 !}+\\frac{x^{4}}{4 !}-\\frac{x^{6}}{6 !}+\\frac{x^{8}}{8 !}-\\cdots \\\\ &=\\sum_{n=0}^{\\infty}(-1)^{n} \\frac{x^{2 n}}{(2 n) !} \\end{aligned}\n",
    "$$\n",
    "\n",
    "$$\n",
    "\\begin{aligned}\\sin x &=x-\\frac{x^{3}}{3 !}+\\frac{x^{5}}{5 !}-\\frac{x^{7}}{7 !}+\\frac{x^{9}}{9 !}-\\cdots \\\\ &=\\sum_{n=1}^{\\infty}(-1)^{(n-1)} \\frac{x^{2 n-1}}{(2 n-1) !} \\stackrel{\\text { or }}{(2 n-1) !} \\quad \\stackrel{\\text {or }}{=} \\sum_{n=0}^{\\infty}(-1)^{n} \\frac{x^{2 n+1}}{(2 n+1) !} \\end{aligned}\n",
    "$$"
   ]
  },
  {
   "cell_type": "code",
   "execution_count": null,
   "metadata": {},
   "outputs": [],
   "source": []
  }
 ],
 "metadata": {
  "kernelspec": {
   "display_name": "Python 3",
   "language": "python",
   "name": "python3"
  },
  "language_info": {
   "codemirror_mode": {
    "name": "ipython",
    "version": 3
   },
   "file_extension": ".py",
   "mimetype": "text/x-python",
   "name": "python",
   "nbconvert_exporter": "python",
   "pygments_lexer": "ipython3",
   "version": "3.6.8"
  }
 },
 "nbformat": 4,
 "nbformat_minor": 2
}
