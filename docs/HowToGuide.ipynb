{
 "cells": [
  {
   "cell_type": "markdown",
   "metadata": {},
   "source": [
    "# AD-PYNE: How-to Guide\n",
    "## Automatic Differentiation Package for Python"
   ]
  },
  {
   "cell_type": "markdown",
   "metadata": {},
   "source": [
    "## Introduction"
   ]
  },
  {
   "cell_type": "markdown",
   "metadata": {},
   "source": [
    "**AD-PYNE** allows you to calculate the derivatives of complex functions by first instantiating simple `AutoDiff` objects and then building the desired functions using elementary functions and the instantiated `AutoDiff` objects."
   ]
  },
  {
   "cell_type": "markdown",
   "metadata": {},
   "source": [
    "## Table of Contents\n",
    "1. [Importing](#importing)\n",
    "2. [Forward Mode](#forward_mode)\n",
    "    1. [Scalar Functions with Single Variable of Scalar](#scalar_single)\n",
    "    2. [Scalar Functions with Single Variable of Vectors](#scalar_vector)\n",
    "    3. [Scalar Functions with Multiple Variables of Scalars](#scalar_multiple)\n",
    "    4. [Vector Functions with Single Variable of Scalar](#vector_single)\n",
    "    5. [Vector Functions with Multiple Variables of Scalars](#vector_multiple)\n",
    "    6. [Vector Functions with Multiple Variables of Vectors](#vector_multiple_vector)\n",
    "3. [Dual Mode for Higher Order Derivatives](#dual_mode)\n",
    "    1. [Higher Order Derivatives for Single Variables](#dual_high_single)\n",
    "    2. [Higher Order Derivatives for Single Variables of Vectors](#dual_high_vector)\n",
    "    3. [Higher Order Derivatives for Vector Functions of Single Variables](#dual_high_vector_function)"
   ]
  },
  {
   "cell_type": "markdown",
   "metadata": {},
   "source": [
    "<a id='importing'></a>\n",
    "## Importing"
   ]
  },
  {
   "cell_type": "code",
   "execution_count": 1,
   "metadata": {},
   "outputs": [],
   "source": [
    "import numpy as np\n",
    "from ADPYNE.AutoDiff import AutoDiff, vectorize\n",
    "import ADPYNE.elemFunctions as ef\n",
    "from ADPYNE.Dual import Dual, vectorizeDual"
   ]
  },
  {
   "cell_type": "markdown",
   "metadata": {},
   "source": [
    "<a id='forward_mode'></a>\n",
    "## Calculating Derivatives using Forward Mode"
   ]
  },
  {
   "cell_type": "markdown",
   "metadata": {},
   "source": [
    "<a id='scalar_single'></a> \n",
    "### Derivatives of Scalar Functions of Scalars with Single Input"
   ]
  },
  {
   "cell_type": "markdown",
   "metadata": {},
   "source": [
    "#### Instantiating an AutoDiff Object\n",
    "If your goal is to build and find the derivatives of scalar functions of a single input, follow the template below for instantiating an `AutoDiff` object. "
   ]
  },
  {
   "cell_type": "code",
   "execution_count": 2,
   "metadata": {},
   "outputs": [],
   "source": [
    "x = AutoDiff(5, 2)"
   ]
  },
  {
   "cell_type": "markdown",
   "metadata": {},
   "source": [
    "The first argument in the `AutoDiff` initialization function is the value of the function. The second argument in the `AutoDiff` initialization function is the derivative of the function. When first instantiating an AutoDiff object, this derivative is the seed. (See the **Calculating the Jacobian** section below for more detail on picking a seed.)"
   ]
  },
  {
   "cell_type": "markdown",
   "metadata": {},
   "source": [
    "Each `AutoDiff` object holds the value in `.val`, the derivative in `.der`, and the Jacobian in `.jacobian`. You can access these elements as shown below."
   ]
  },
  {
   "cell_type": "markdown",
   "metadata": {},
   "source": [
    "<div class=\"alert alert-block alert-info\">\n",
    "<b>Warning:</b> All values are stored as numpy arrays. Scalar values are stored as 1 x 1 arrays. If you need to work with Python ints or floats, you must do the conversion yourself on the returned values. Do not convert the stored elements in the objects themselves.\n",
    "</div>"
   ]
  },
  {
   "cell_type": "code",
   "execution_count": 3,
   "metadata": {},
   "outputs": [
    {
     "name": "stdout",
     "output_type": "stream",
     "text": [
      "Value:  [[5]]\n",
      "Derivative:  [[2.]]\n",
      "Jacobian:  [[1.]]\n"
     ]
    }
   ],
   "source": [
    "print(\"Value: \", x.val)\n",
    "print(\"Derivative: \", x.der)\n",
    "print(\"Jacobian: \", x.jacobian)"
   ]
  },
  {
   "cell_type": "markdown",
   "metadata": {},
   "source": [
    "You can converting the returned elements to Python ints or floats for your own purposes."
   ]
  },
  {
   "cell_type": "code",
   "execution_count": 4,
   "metadata": {},
   "outputs": [],
   "source": [
    "# Correct conversion\n",
    "theValueF = float(x.val)\n",
    "theDerivativeF = float(x.der)\n",
    "theJacobianF = float(x.jacobian)"
   ]
  },
  {
   "cell_type": "code",
   "execution_count": 5,
   "metadata": {},
   "outputs": [
    {
     "name": "stdout",
     "output_type": "stream",
     "text": [
      "Value:  5.0\n",
      "Derivative:  2.0\n",
      "Jacobian:  1.0\n"
     ]
    }
   ],
   "source": [
    "print(\"Value: \", theValueF)\n",
    "print(\"Derivative: \", theDerivativeF)\n",
    "print(\"Jacobian: \", theJacobianF)"
   ]
  },
  {
   "cell_type": "markdown",
   "metadata": {},
   "source": [
    "<div class=\"alert alert-block alert-danger\">\n",
    "<b>Example of incorrect conversion:</b>\n",
    "<br>x.val = float(x.val)\n",
    "<br>x.der = float(x.der)\n",
    "<br>x.jacobian = float(x.jacobian)\n",
    "</div>\n"
   ]
  },
  {
   "cell_type": "markdown",
   "metadata": {},
   "source": [
    "#### Calculating the Jacobian"
   ]
  },
  {
   "cell_type": "markdown",
   "metadata": {},
   "source": [
    "You have two options for calculating the jacobian of a function. "
   ]
  },
  {
   "cell_type": "markdown",
   "metadata": {},
   "source": [
    "##### Option 1 - Using a Seed of 1\n",
    "If you know that you only need the jacobian of function, you can simply initialize an `AutoDiff` object with a derivative (or seed) of 1. In this case, the derivative and jacobian of the function will be the same. "
   ]
  },
  {
   "cell_type": "code",
   "execution_count": 6,
   "metadata": {},
   "outputs": [
    {
     "name": "stdout",
     "output_type": "stream",
     "text": [
      "Value:  [[5]]\n",
      "Derivative:  [[1.]]\n",
      "Jacobian:  [[1.]]\n"
     ]
    }
   ],
   "source": [
    "x = AutoDiff(5, 1)\n",
    "\n",
    "print(\"Value: \", x.val)\n",
    "print(\"Derivative: \", x.der)\n",
    "print(\"Jacobian: \", x.jacobian)"
   ]
  },
  {
   "cell_type": "markdown",
   "metadata": {},
   "source": [
    "##### Option 2 - Using any Seed"
   ]
  },
  {
   "cell_type": "markdown",
   "metadata": {},
   "source": [
    "If you need to set the derivative of the initial `AutoDiff` object to some number other than 1, you can still find the jacobian at any time by accessing the element `.jacobian` of the `AutoDiff` object as shown in **Instantiating an AutoDiff Object**. "
   ]
  },
  {
   "cell_type": "markdown",
   "metadata": {},
   "source": [
    "#### Building Up a Function\n",
    "You may build up a function with any combination of the following elementary functions. \n",
    "\n",
    "Some of these functions are available as part of the **AutoDiff** module and do not require importing the additional **elmeFunctions** module. This functions are as follows: addition, subtraction, multiplication, division, power, absolute value, negation, and invert.\n",
    "\n",
    "All other elmentary functions require importing the **elemFunctions** module. These functions are: (natural) exponential, (natural) log, log base 10, square root, absolute value, sine, cosine, tangent, arc sine, arc cosine, arc tangent, hyperbolic sine, hyperbolic cosine, hyperbolic tangent, hyperbolic arc sine, hyperbolic arc cosine, and hyperbolic arc tangent.\n",
    "\n",
    "To build up the function, pass in the AutoDiff object into the elemenary functions or manipulate the AutoDiff object using Python operations. Store the function in a variable. "
   ]
  },
  {
   "cell_type": "markdown",
   "metadata": {},
   "source": [
    "##### Example 1"
   ]
  },
  {
   "cell_type": "code",
   "execution_count": 7,
   "metadata": {},
   "outputs": [],
   "source": [
    "x = AutoDiff(3, 2)\n",
    "f = x**3 - 5*x**-2 + 2*x + 5"
   ]
  },
  {
   "cell_type": "code",
   "execution_count": 8,
   "metadata": {},
   "outputs": [
    {
     "name": "stdout",
     "output_type": "stream",
     "text": [
      "Value:  [[37.44444444]]\n",
      "Derivative:  [[58.74074074]]\n",
      "Jacobian:  [[29.37037037]]\n"
     ]
    }
   ],
   "source": [
    "print(\"Value: \", f.val)\n",
    "print(\"Derivative: \", f.der)\n",
    "print(\"Jacobian: \", f.jacobian)"
   ]
  },
  {
   "cell_type": "markdown",
   "metadata": {},
   "source": [
    "In the example above, the AutoDiff object `x` is initialized with a value of 3 and a seed of 2 for its derivative. Each operation on `x` produces a new AutoDiff function. Any number of elementary functions and operations can be done in a single line and stored in a single AutoDiff function. "
   ]
  },
  {
   "cell_type": "markdown",
   "metadata": {},
   "source": [
    "##### Example 2"
   ]
  },
  {
   "cell_type": "markdown",
   "metadata": {},
   "source": [
    "Building up the function piece by piece is also valid and will produce the same results. "
   ]
  },
  {
   "cell_type": "code",
   "execution_count": 9,
   "metadata": {},
   "outputs": [],
   "source": [
    "x = AutoDiff(3, 2)\n",
    "f = x**3\n",
    "g = -5*x**-2\n",
    "h = 2*x + 5\n",
    "fgh = f + g + h"
   ]
  },
  {
   "cell_type": "code",
   "execution_count": 10,
   "metadata": {},
   "outputs": [
    {
     "name": "stdout",
     "output_type": "stream",
     "text": [
      "Value:  [[37.44444444]]\n",
      "Derivative:  [[58.74074074]]\n",
      "Jacobian:  [[29.37037037]]\n"
     ]
    }
   ],
   "source": [
    "print(\"Value: \", fgh.val)\n",
    "print(\"Derivative: \", fgh.der)\n",
    "print(\"Jacobian: \", fgh.jacobian)"
   ]
  },
  {
   "cell_type": "markdown",
   "metadata": {},
   "source": [
    "##### Example 3\n",
    "Call and use the elmentary functions in the **elemFunctions** as you would any other function."
   ]
  },
  {
   "cell_type": "code",
   "execution_count": 12,
   "metadata": {},
   "outputs": [
    {
     "name": "stdout",
     "output_type": "stream",
     "text": [
      "Value:  [[-0.90268536]]\n",
      "Derivative:  [[1.73805807]]\n",
      "Jacobian:  [[3.47611614]]\n"
     ]
    }
   ],
   "source": [
    "x = AutoDiff(np.pi, 0.5, 1)\n",
    "\n",
    "f = ef.sin(x) + ef.cos(x**2) + ef.tan(x)*ef.sqrt(x)\n",
    "\n",
    "print(\"Value: \", f.val)\n",
    "print(\"Derivative: \", f.der)\n",
    "print(\"Jacobian: \", f.jacobian)"
   ]
  },
  {
   "cell_type": "markdown",
   "metadata": {},
   "source": [
    "<a id='scalar_vector'></a> \n",
    "### Derivatives of Scalar Functions of Vector Inputs for Single Variable"
   ]
  },
  {
   "cell_type": "markdown",
   "metadata": {},
   "source": [
    "This section assumes you have some familiarity with the concepts covered in [Scalar Functions with Single Input](#scalar_single)."
   ]
  },
  {
   "cell_type": "markdown",
   "metadata": {},
   "source": [
    "#### Instantiating an AutoDiff Object\n",
    "\n",
    "You may instantiate an AutoDiff object for a scalar function with a vector of inputs for a single variable. \n",
    "\n",
    "For example, you would like to evaluate the derivative of a function at the following points: x = \\[-2, -1, 0, 1, 2\\]. "
   ]
  },
  {
   "cell_type": "code",
   "execution_count": 12,
   "metadata": {},
   "outputs": [],
   "source": [
    "x = AutoDiff([-2, -1, 0, 1, 2], 2)"
   ]
  },
  {
   "cell_type": "code",
   "execution_count": 13,
   "metadata": {},
   "outputs": [
    {
     "name": "stdout",
     "output_type": "stream",
     "text": [
      "Value:\n",
      " [[-2]\n",
      " [-1]\n",
      " [ 0]\n",
      " [ 1]\n",
      " [ 2]]\n",
      "Derivative:\n",
      " [[2.]\n",
      " [2.]\n",
      " [2.]\n",
      " [2.]\n",
      " [2.]]\n",
      "Jacobian:\n",
      " [[1.]\n",
      " [1.]\n",
      " [1.]\n",
      " [1.]\n",
      " [1.]]\n"
     ]
    }
   ],
   "source": [
    "print(\"Value:\\n\", x.val)\n",
    "print(\"Derivative:\\n\", x.der)\n",
    "print(\"Jacobian:\\n\", x.jacobian)"
   ]
  },
  {
   "cell_type": "markdown",
   "metadata": {},
   "source": [
    "#### Building Up a Function\n",
    "You can build up a scalar function with vector inputs as you would a scalar function with a scalar input. "
   ]
  },
  {
   "cell_type": "code",
   "execution_count": 14,
   "metadata": {},
   "outputs": [
    {
     "name": "stdout",
     "output_type": "stream",
     "text": [
      "Value:\n",
      " [[-8.25]\n",
      " [-3.  ]\n",
      " [ -inf]\n",
      " [ 3.  ]\n",
      " [15.75]]\n",
      "Derivative:\n",
      " [[ 25.5]\n",
      " [-10. ]\n",
      " [  inf]\n",
      " [ 30. ]\n",
      " [ 30.5]]\n",
      "Jacobian:\n",
      " [[12.75]\n",
      " [-5.  ]\n",
      " [  inf]\n",
      " [15.  ]\n",
      " [15.25]]\n"
     ]
    }
   ],
   "source": [
    "f = x**3 - 5*x**-2 + 2*x + 5\n",
    "print(\"Value:\\n\", f.val)\n",
    "print(\"Derivative:\\n\", f.der)\n",
    "print(\"Jacobian:\\n\", f.jacobian)"
   ]
  },
  {
   "cell_type": "markdown",
   "metadata": {},
   "source": [
    "A warning will appear if any of the derivatives cannot be evaluating because of dividing by 0. "
   ]
  },
  {
   "cell_type": "markdown",
   "metadata": {},
   "source": [
    "<a id='scalar_multiple'></a> \n",
    "### Derivatives of Scalar Functions of Multiple Variables of Scalars"
   ]
  },
  {
   "cell_type": "markdown",
   "metadata": {},
   "source": [
    "This section assumes you have some familiarity with the concepts covered in [Scalar Functions with Single Input](#scalar_single)."
   ]
  },
  {
   "cell_type": "markdown",
   "metadata": {},
   "source": [
    "#### Instantiating an AutoDiff Object\n",
    "\n",
    "You may instantiate an AutoDiff object for a scalar function with multiple variables of scalars. \n",
    "\n",
    "For example, you would like to evaluate the partial derivatives of the following function:\n",
    "$ f(x, y, z) = 3x^2 + xy^2 - 2z^3 $\n",
    "\n",
    "You may instantiate an AutoDiff object for each variable $x$, $y$, $z$. You must instantiate a value and seed for each variable. You must pass in the total number of variables you will ultimately use in your function(s). You must also denote that the variable is the $k^{th}$ variable in the function."
   ]
  },
  {
   "cell_type": "code",
   "execution_count": 19,
   "metadata": {},
   "outputs": [],
   "source": [
    "x = AutoDiff(3, 2, n=3, k=1)"
   ]
  },
  {
   "cell_type": "markdown",
   "metadata": {},
   "source": [
    "In this way, the AutoDiff object knows that the value and derivative of $x$ should be the first column in the jacobian. "
   ]
  },
  {
   "cell_type": "code",
   "execution_count": 24,
   "metadata": {},
   "outputs": [],
   "source": [
    "y = AutoDiff(-1, 2, n=3, k=2)\n",
    "z = AutoDiff(1, 2, n=3, k=3)"
   ]
  },
  {
   "cell_type": "markdown",
   "metadata": {},
   "source": [
    "The value and deriative of $y$ is the second column in the jacobian. The value and derivative of $z$ is the third column in the jacobian."
   ]
  },
  {
   "cell_type": "markdown",
   "metadata": {},
   "source": [
    "#### Building up a Function"
   ]
  },
  {
   "cell_type": "code",
   "execution_count": 26,
   "metadata": {},
   "outputs": [
    {
     "name": "stdout",
     "output_type": "stream",
     "text": [
      "Value:\n",
      " [[28.]]\n",
      "Derivative:\n",
      " [[ 38. -12. -12.]]\n",
      "Jacobian:\n",
      " [[19. -6. -6.]]\n"
     ]
    }
   ],
   "source": [
    "f = 3*x**2 + x*(y**2) - 2*z**3\n",
    "print(\"Value:\\n\", f.val)\n",
    "print(\"Derivative:\\n\", f.der)\n",
    "print(\"Jacobian:\\n\", f.jacobian)"
   ]
  },
  {
   "cell_type": "markdown",
   "metadata": {},
   "source": [
    "The partial derivatives of $x$,$y$, and $z$ are the first, second, and third columns, respectively. \n",
    "\n",
    "\n",
    "$\\left[\\begin{array}{ccc}\n",
    "\\frac{\\partial f}{\\partial x} && \\frac{\\partial f}{\\partial y} \n",
    "&& \\frac{\\partial f}{\\partial z}\n",
    "\\end{array}\\right]$"
   ]
  },
  {
   "cell_type": "markdown",
   "metadata": {},
   "source": [
    "<a id='vector_single'></a> \n",
    "### Derivatives of Vector Functions of Single Variables with Scalar Inputs"
   ]
  },
  {
   "cell_type": "markdown",
   "metadata": {},
   "source": [
    "This section assumes you have some familiarity with the concepts covered in [Scalar Functions with Single Input](#scalar_single)."
   ]
  },
  {
   "cell_type": "markdown",
   "metadata": {},
   "source": [
    "#### Instantiating an AutoDiff Object\n",
    "You may instantiate an AutoDiff object for a vector function with a single input. \n",
    "\n",
    "For example, you would like to evaluate the derivative the following vector function:\n",
    "\n",
    "$\\left[\\begin{array}{c}\n",
    "x^2 + 3x - 2\\\\\n",
    "e^{-10x} \\\\\n",
    "cos(x) + sin(x)\n",
    "\\end{array}\\right]$\n",
    "\n",
    "You would instantiate the AutoDiff object as before."
   ]
  },
  {
   "cell_type": "code",
   "execution_count": 15,
   "metadata": {},
   "outputs": [],
   "source": [
    "x = AutoDiff(0, 2)"
   ]
  },
  {
   "cell_type": "markdown",
   "metadata": {},
   "source": [
    "#### Building Up a Vector Function\n",
    "\n",
    "You may build up a vector function in a variety fo ways. "
   ]
  },
  {
   "cell_type": "markdown",
   "metadata": {},
   "source": [
    "##### Example 1\n",
    "You may build up a vector function by building each function individually and then calling the function `vectorize`. "
   ]
  },
  {
   "cell_type": "code",
   "execution_count": 16,
   "metadata": {},
   "outputs": [
    {
     "name": "stdout",
     "output_type": "stream",
     "text": [
      "Value:\n",
      " [[-2.]\n",
      " [ 1.]\n",
      " [ 1.]]\n",
      "Derivative:\n",
      " [[  6.]\n",
      " [-20.]\n",
      " [  2.]]\n",
      "Jacobian:\n",
      " [[  3.]\n",
      " [-10.]\n",
      " [  1.]]\n"
     ]
    }
   ],
   "source": [
    "f1 = x**2 + 3*x - 2\n",
    "f2 = ef.exp(-10*x)\n",
    "f3 = ef.cos(x) + ef.sin(x)\n",
    "\n",
    "f = vectorize([f1, f2, f3])\n",
    "\n",
    "print(\"Value:\\n\", f.val)\n",
    "print(\"Derivative:\\n\", f.der)\n",
    "print(\"Jacobian:\\n\", f.jacobian)"
   ]
  },
  {
   "cell_type": "markdown",
   "metadata": {},
   "source": [
    "The derivative is given in the following form:\n",
    "\n",
    "$\\left[\\begin{array}{c}\n",
    "\\frac{\\partial f}{\\partial x}  \\\\\n",
    "\\frac{\\partial f}{\\partial x} \\\\\n",
    "\\frac{\\partial f}{\\partial x}\n",
    "\\end{array}\\right]$"
   ]
  },
  {
   "cell_type": "markdown",
   "metadata": {},
   "source": [
    "##### Example 2\n",
    "You may build up a vector function by creating a list of functions and calling the function `vectorize` on that list."
   ]
  },
  {
   "cell_type": "code",
   "execution_count": 17,
   "metadata": {},
   "outputs": [
    {
     "name": "stdout",
     "output_type": "stream",
     "text": [
      "Value:\n",
      " [[-2.]\n",
      " [ 1.]\n",
      " [ 1.]]\n",
      "Derivative:\n",
      " [[  6.]\n",
      " [-20.]\n",
      " [  2.]]\n",
      "Jacobian:\n",
      " [[  3.]\n",
      " [-10.]\n",
      " [  1.]]\n"
     ]
    }
   ],
   "source": [
    "fs = [x**2 + 3*x - 2, ef.exp(-10*x), ef.cos(x) + ef.sin(x)]\n",
    "\n",
    "f = vectorize(fs)\n",
    "\n",
    "print(\"Value:\\n\", f.val)\n",
    "print(\"Derivative:\\n\", f.der)\n",
    "print(\"Jacobian:\\n\", f.jacobian)"
   ]
  },
  {
   "cell_type": "markdown",
   "metadata": {},
   "source": [
    "<a id='vector_multiple'></a> \n",
    "### Derivatives of Vector Functions of Multiple Variables with Scalar Inputs"
   ]
  },
  {
   "cell_type": "markdown",
   "metadata": {},
   "source": [
    "This section assumes you have some familiarity with the concepts covered in [Scalar Functions with Single Variable of Scalar](#scalar_single) and [Vector Functions with Single Variable of Scalar](#vector_single)"
   ]
  },
  {
   "cell_type": "markdown",
   "metadata": {},
   "source": [
    "#### Instantiating an AutoDiff Object\n",
    "You may instantiate an AutoDiff object for a vector function with a multiple scalar inputs. \n",
    "\n",
    "For example, you would like to evaluate the partial derivatives for the following vector function:\n",
    "\n",
    "$\\left[\\begin{array}{c}\n",
    "3x^2 + xy^2 - 2z^3\\\\\n",
    "ye^{x} \\\\\n",
    "cos(xz) + sin(\\frac{y}{z})\n",
    "\\end{array}\\right]$\n",
    "\n",
    "You would instantiate the AutoDiff object as before in the multiple variable case."
   ]
  },
  {
   "cell_type": "code",
   "execution_count": 2,
   "metadata": {},
   "outputs": [],
   "source": [
    "x = AutoDiff(3, 2, n=3, k=1)\n",
    "y = AutoDiff(-2, 2, n=3, k=2)\n",
    "z = AutoDiff(1, 2, n=3, k=3)"
   ]
  },
  {
   "cell_type": "markdown",
   "metadata": {},
   "source": [
    "#### Building Up a Vector Function\n",
    "Create functions as before."
   ]
  },
  {
   "cell_type": "code",
   "execution_count": 4,
   "metadata": {},
   "outputs": [],
   "source": [
    "f1 = 3*x**2 + x*y**2 - 2*z**3\n",
    "f2 = y*ef.exp(x)\n",
    "f3 = ef.cos(x*z) + ef.sin(y/z)"
   ]
  },
  {
   "cell_type": "markdown",
   "metadata": {},
   "source": [
    "When using the vectorize function, pass in the number of inputs."
   ]
  },
  {
   "cell_type": "code",
   "execution_count": 5,
   "metadata": {},
   "outputs": [
    {
     "name": "stdout",
     "output_type": "stream",
     "text": [
      "Value:\n",
      " [[ 37.        ]\n",
      " [-40.17107385]\n",
      " [ -1.89928992]]\n",
      "Derivative:\n",
      " [[ 44.         -24.         -12.        ]\n",
      " [-80.34214769  40.17107385   0.        ]\n",
      " [ -0.28224002  -0.83229367  -2.51130739]]\n",
      "Jacobian:\n",
      " [[ 22.         -12.          -6.        ]\n",
      " [-40.17107385  20.08553692   0.        ]\n",
      " [ -0.14112001  -0.41614684  -1.2556537 ]]\n"
     ]
    }
   ],
   "source": [
    "f = vectorize([f1, f2, f3], n_inputs = 3)\n",
    "\n",
    "print(\"Value:\\n\", f.val)\n",
    "print(\"Derivative:\\n\", f.der)\n",
    "print(\"Jacobian:\\n\", f.jacobian)"
   ]
  },
  {
   "cell_type": "markdown",
   "metadata": {},
   "source": [
    "The derivative is given in the following form:\n",
    "\n",
    "$\\left[\\begin{array}{ccc}\n",
    "\\frac{\\partial f_1}{\\delta x} && \\frac{\\partial f_1}{\\partial y} \n",
    "&& \\frac{\\partial f_1}{\\partial z} \\\\\n",
    "\\frac{\\partial f_2}{d x} && \\frac{\\partial f_2}{\\partial y} \n",
    "&& \\frac{\\partial f_2}{d z} \\\\\n",
    "\\frac{\\partial f_3}{\\partial x} && \\frac{\\partial f_3}{\\partial y} \n",
    "&& \\frac{\\partial f_3}{\\partial z}\n",
    "\\end{array}\\right]$"
   ]
  },
  {
   "cell_type": "markdown",
   "metadata": {},
   "source": [
    "<a id='vector_multiple_vector'></a> \n",
    "### Derivatives of Vector Functions of Multiple Variables with Vector Inputs"
   ]
  },
  {
   "cell_type": "markdown",
   "metadata": {},
   "source": [
    "This section assumes you have some familiarity with the concepts covered in [Scalar Functions with Single Variable of Scalar](#scalar_single), [Vector Functions with Single Variable of Scalar](#vector_single), and [Scalar Functions with Multiple Variables of Scalars](#scalar_multiple)."
   ]
  },
  {
   "cell_type": "markdown",
   "metadata": {},
   "source": [
    "#### Instantiating an AutoDiff Object\n",
    "You may instantiate an AutoDiff object for a vector function with a multiple vector inputs. (At the moment, Forward Mode only supports multiple inputs with vectors of the same length.)\n",
    "\n",
    "For example, you would like to evaluate the partial derivatives for the following vector function:\n",
    "\n",
    "$\\left[\\begin{array}{c}\n",
    "3x^2 + xy^2 - 2z^3\\\\\n",
    "ye^{x} \\\\\n",
    "cos(xz) + sin(\\frac{y}{z})\n",
    "\\end{array}\\right]$\n",
    "\n",
    "You would like to evaluate this vector function at:\n",
    "\n",
    "$x = [-2, 1, 0, 1, 2]$\n",
    "$y = [0, 1, -3, 2, -1]$\n",
    "$z = [10, -10, 0.1, -0.1, 1]$\n",
    "\n",
    "You would instantiate the AutoDiff object as follows. The example below initiatives the seed to be 2 for all the partial derivatives. "
   ]
  },
  {
   "cell_type": "code",
   "execution_count": 9,
   "metadata": {},
   "outputs": [],
   "source": [
    "x = AutoDiff([-2, -1, 0, 1, 2], 2, n=3, k=1)\n",
    "y = AutoDiff([0, 1, -3, 2, -1], 2, n=3, k=2)\n",
    "z = AutoDiff([10, -10, 0.1, -0.1, 2], 1, n=3, k=3)"
   ]
  },
  {
   "cell_type": "markdown",
   "metadata": {},
   "source": [
    "#### Building Up a Vector Function\n",
    "Create functions as before."
   ]
  },
  {
   "cell_type": "code",
   "execution_count": 11,
   "metadata": {},
   "outputs": [],
   "source": [
    "f1 = 3*x**2 + x*y**2 - 2*z**3\n",
    "f2 = y*ef.exp(x)\n",
    "f3 = ef.cos(x*z) + ef.sin(y/z)"
   ]
  },
  {
   "cell_type": "markdown",
   "metadata": {},
   "source": [
    "When vectorizing the functions, pass in the number of inputs and the number of vectors."
   ]
  },
  {
   "cell_type": "code",
   "execution_count": 12,
   "metadata": {},
   "outputs": [
    {
     "name": "stdout",
     "output_type": "stream",
     "text": [
      "Value:\n",
      " [[-1.98800000e+03  2.00200000e+03 -2.00000000e-03  7.00200000e+00\n",
      "  -2.00000000e+00]\n",
      " [ 0.00000000e+00  3.67879441e-01 -3.00000000e+00  5.43656366e+00\n",
      "  -7.38905610e+00]\n",
      " [ 4.08082062e-01 -9.38904946e-01  1.98803162e+00  8.20589146e-02\n",
      "  -1.13306916e+00]]\n",
      "Derivative:\n",
      " [[[-2.40000000e+01  0.00000000e+00 -6.00000000e+02]\n",
      "  [ 0.00000000e+00  2.70670566e-01  0.00000000e+00]\n",
      "  [ 1.82589050e+01  2.00000000e-01 -1.82589050e+00]]\n",
      "\n",
      " [[-1.00000000e+01 -4.00000000e+00 -6.00000000e+02]\n",
      "  [ 7.35758882e-01  7.35758882e-01  0.00000000e+00]\n",
      "  [-1.08804222e+01 -1.99000833e-01 -5.53971153e-01]]\n",
      "\n",
      " [[ 1.80000000e+01  0.00000000e+00 -6.00000000e-02]\n",
      "  [-6.00000000e+00  2.00000000e+00  0.00000000e+00]\n",
      "  [ 0.00000000e+00  3.08502900e+00  4.62754350e+01]]\n",
      "\n",
      " [[ 2.00000000e+01  8.00000000e+00 -6.00000000e-02]\n",
      "  [ 1.08731273e+01  5.43656366e+00  0.00000000e+00]\n",
      "  [-1.99666833e-02 -8.16164124e+00 -8.15165789e+01]]\n",
      "\n",
      " [[ 2.60000000e+01 -8.00000000e+00 -2.40000000e+01]\n",
      "  [-1.47781122e+01  1.47781122e+01  0.00000000e+00]\n",
      "  [ 3.02720998e+00  8.77582562e-01  1.73300063e+00]]]\n",
      "Jacobian:\n",
      " [[[-1.20000000e+01  0.00000000e+00 -6.00000000e+02]\n",
      "  [ 0.00000000e+00  1.35335283e-01  0.00000000e+00]\n",
      "  [ 9.12945251e+00  1.00000000e-01 -1.82589050e+00]]\n",
      "\n",
      " [[-5.00000000e+00 -2.00000000e+00 -6.00000000e+02]\n",
      "  [ 3.67879441e-01  3.67879441e-01  0.00000000e+00]\n",
      "  [-5.44021111e+00 -9.95004165e-02 -5.53971153e-01]]\n",
      "\n",
      " [[ 9.00000000e+00  0.00000000e+00 -6.00000000e-02]\n",
      "  [-3.00000000e+00  1.00000000e+00  0.00000000e+00]\n",
      "  [ 0.00000000e+00  1.54251450e+00  4.62754350e+01]]\n",
      "\n",
      " [[ 1.00000000e+01  4.00000000e+00 -6.00000000e-02]\n",
      "  [ 5.43656366e+00  2.71828183e+00  0.00000000e+00]\n",
      "  [-9.98334166e-03 -4.08082062e+00 -8.15165789e+01]]\n",
      "\n",
      " [[ 1.30000000e+01 -4.00000000e+00 -2.40000000e+01]\n",
      "  [-7.38905610e+00  7.38905610e+00  0.00000000e+00]\n",
      "  [ 1.51360499e+00  4.38791281e-01  1.73300063e+00]]]\n"
     ]
    }
   ],
   "source": [
    "f = vectorize([f1, f2, f3], n_inputs = 3, n_vectors = 5)\n",
    "\n",
    "print(\"Value:\\n\", f.val)\n",
    "print(\"Derivative:\\n\", f.der)\n",
    "print(\"Jacobian:\\n\", f.jacobian)"
   ]
  },
  {
   "cell_type": "markdown",
   "metadata": {},
   "source": [
    "The derivative and jacobian will be a matrix in which the ith column is a matrix for the ith tuple of $(x_i, y_i, z_i)$."
   ]
  },
  {
   "cell_type": "markdown",
   "metadata": {},
   "source": [
    "<a id='dual_mode'></a>\n",
    "## Calculating Higher Order Derivatives using Dual Mode"
   ]
  },
  {
   "cell_type": "markdown",
   "metadata": {},
   "source": [
    "A dual number is in the form of:\n",
    "$a + b\\epsilon$\n",
    "\n",
    "Where $\\epsilon^2 = 0$\n",
    "\n",
    "A nice property of dual numbers is that $b$ is the derivative of $a$.\n",
    "\n",
    "For more information on dual numbers, please see the documentation in `/docs`."
   ]
  },
  {
   "cell_type": "markdown",
   "metadata": {},
   "source": [
    "<a id='dual_high_single'></a>\n",
    "### Higher Order Derivatives for Single Variables"
   ]
  },
  {
   "cell_type": "markdown",
   "metadata": {},
   "source": [
    "To calculate the $n^{th}$ derivative of functions with single variables, you can use the `Dual` object which holds a dual number."
   ]
  },
  {
   "cell_type": "markdown",
   "metadata": {},
   "source": [
    "#### Instantiating a Dual Object for Nth Derivatives\n",
    "To instantiate a `Dual` object, you must pass in the value at which to evaluate the function. You may also pass in a seed of your choice, but must pass in a seed of 1 to evaluate the jacobian.  "
   ]
  },
  {
   "cell_type": "code",
   "execution_count": 39,
   "metadata": {},
   "outputs": [
    {
     "name": "stdout",
     "output_type": "stream",
     "text": [
      "3 + 1ε\n"
     ]
    }
   ],
   "source": [
    "x = Dual(3)\n",
    "print(x)"
   ]
  },
  {
   "cell_type": "markdown",
   "metadata": {},
   "source": [
    "x is a `Dual` object with a real value of 3 and a derivative of 1.\n",
    "\n",
    "After instantiating the `Dual` object, decide to which order you would like to derive your function. Create a new higher order Dual Number by calling the class method `.makeHighestOrder(order)` on your original `Dual` object.\n",
    "\n",
    "The code below builds a `Dual` object to evaluate up to the fourth derivative."
   ]
  },
  {
   "cell_type": "code",
   "execution_count": 40,
   "metadata": {},
   "outputs": [],
   "source": [
    "x4 = x.makeHighestOrder(4)"
   ]
  },
  {
   "cell_type": "markdown",
   "metadata": {},
   "source": [
    "#### Building Up a Function\n",
    "You can build up a function in the same manner as for the `AutoDiff` object. "
   ]
  },
  {
   "cell_type": "code",
   "execution_count": 41,
   "metadata": {},
   "outputs": [],
   "source": [
    "f = -5*x4**3"
   ]
  },
  {
   "cell_type": "markdown",
   "metadata": {},
   "source": [
    "To get the values of $f(x)$ and the first to $n$ derivatives, call the `.buildCoefficients(order)` method on `f`. "
   ]
  },
  {
   "cell_type": "code",
   "execution_count": 42,
   "metadata": {},
   "outputs": [
    {
     "name": "stdout",
     "output_type": "stream",
     "text": [
      "-135.0 + -135.0ε + -90.0ε^2 + -30.0ε^3 + -0.0ε^4\n"
     ]
    }
   ],
   "source": [
    "f.buildCoefficients(4)\n",
    "print(f)"
   ]
  },
  {
   "cell_type": "markdown",
   "metadata": {},
   "source": [
    "The first value in the vector is the value of the function. The second value in the vector is the first derivative. The third vaue is the second derivative, and so on. \n",
    "\n",
    "You can access each element of the vector in the following way:"
   ]
  },
  {
   "cell_type": "code",
   "execution_count": 43,
   "metadata": {},
   "outputs": [
    {
     "name": "stdout",
     "output_type": "stream",
     "text": [
      "Value: -135.0\n",
      "First derivative: -135.0\n",
      "Second derivative: -90.0\n",
      "Third derivative: -30.0\n",
      "Fourth derivative: -0.0\n"
     ]
    }
   ],
   "source": [
    "print(\"Value: {}\".format(f.coefficients[0]))\n",
    "print(\"First derivative: {}\".format(f.coefficients[1]))\n",
    "print(\"Second derivative: {}\".format(f.coefficients[2]))\n",
    "print(\"Third derivative: {}\".format(f.coefficients[3]))\n",
    "print(\"Fourth derivative: {}\".format(f.coefficients[4]))"
   ]
  },
  {
   "cell_type": "markdown",
   "metadata": {},
   "source": [
    "<a id='dual_high_vector'></a>\n",
    "### Higher Order Derivatives for Single Variables of Vectors Inputs"
   ]
  },
  {
   "cell_type": "markdown",
   "metadata": {},
   "source": [
    "You may pass in a `numpy` array of values at which to evaluate the function."
   ]
  },
  {
   "cell_type": "code",
   "execution_count": 5,
   "metadata": {},
   "outputs": [],
   "source": [
    "x = Dual(np.array([3, -0.8, -4, 0.1, 2]), 1)\n",
    "x3 = x.makeHighestOrder(3)"
   ]
  },
  {
   "cell_type": "markdown",
   "metadata": {},
   "source": [
    "<div class=\"alert alert-block alert-info\">\n",
    "<b>Warning:</b> Unlike in Forward Mode for <b>AutoDiff</b> objects, all vectors must be passed in to <b>Dual</b> objects using numpy arrays. \n",
    "</div>"
   ]
  },
  {
   "cell_type": "code",
   "execution_count": 10,
   "metadata": {},
   "outputs": [
    {
     "name": "stdout",
     "output_type": "stream",
     "text": [
      "[ 4.8600e+02 -6.5536e-01 -2.0480e+03  2.0000e-05  6.4000e+01] + [8.100e+02 4.096e+00 2.560e+03 1.000e-03 1.600e+02]ε + [ 1.080e+03 -2.048e+01 -2.560e+03  4.000e-02  3.200e+02]ε^2 + [1.08e+03 7.68e+01 1.92e+03 1.20e+00 4.80e+02]ε^3\n",
      "Value: [ 4.8600e+02 -6.5536e-01 -2.0480e+03  2.0000e-05  6.4000e+01]\n",
      "First derivative: [8.100e+02 4.096e+00 2.560e+03 1.000e-03 1.600e+02]\n",
      "Second derivative: [ 1.080e+03 -2.048e+01 -2.560e+03  4.000e-02  3.200e+02]\n",
      "Third derivative: [1.08e+03 7.68e+01 1.92e+03 1.20e+00 4.80e+02]\n"
     ]
    }
   ],
   "source": [
    "f = 2*x3**5\n",
    "f.buildCoefficients(3)\n",
    "print(f)\n",
    "print(\"Value: {}\".format(f.coefficients[0]))\n",
    "print(\"First derivative: {}\".format(f.coefficients[1]))\n",
    "print(\"Second derivative: {}\".format(f.coefficients[2]))\n",
    "print(\"Third derivative: {}\".format(f.coefficients[3]))"
   ]
  },
  {
   "cell_type": "markdown",
   "metadata": {},
   "source": [
    "The $i^{th}$ column of each derivative vector corresponds to the $i^{th}$ value of passed in vector. Example: The third derivative of $f(x)$ at $x = -4$ is $1920$."
   ]
  },
  {
   "cell_type": "markdown",
   "metadata": {},
   "source": [
    "<a id='dual_high_vector_function'></a>\n",
    "### Higher Order Derivatives for Vector Functions with Single Variables"
   ]
  },
  {
   "cell_type": "markdown",
   "metadata": {},
   "source": [
    "As with the `AutoDiff` object, you can build derivatives of vector functions. "
   ]
  },
  {
   "cell_type": "code",
   "execution_count": 2,
   "metadata": {},
   "outputs": [],
   "source": [
    "x = Dual(2, 1)\n",
    "\n",
    "x2 = x.makeHighestOrder(5)\n",
    "\n",
    "f1 = 3*x2**5\n",
    "f2 = 2*ef.sin(x2)\n",
    "f3 = ef.exp(2*x2)"
   ]
  },
  {
   "cell_type": "markdown",
   "metadata": {},
   "source": [
    "To pull the functions together in a vector function, call the function `vectorizeDual`. "
   ]
  },
  {
   "cell_type": "code",
   "execution_count": 4,
   "metadata": {
    "scrolled": true
   },
   "outputs": [],
   "source": [
    "f = vectorizeDual([f1, f2, f3], 5)"
   ]
  },
  {
   "cell_type": "markdown",
   "metadata": {},
   "source": [
    "The class attribute `.coefficients` holds a $nxm$ array where $n$ is the number of functions and $m$ holds the value and first derivative to the last derivative. (In this example, `.coefficients` is $3x6$ as it holds 1 value and 5 derivatives for each of the 3 functions. "
   ]
  },
  {
   "cell_type": "code",
   "execution_count": 7,
   "metadata": {},
   "outputs": [
    {
     "name": "stdout",
     "output_type": "stream",
     "text": [
      "Value for f1: 96.0\n",
      "First derivative for f1: 240.0\n",
      "Second derivative for f1: 480.0\n",
      "Third derivative for f1: 720.0\n",
      "Fourth derivative for f1: 720.0\n",
      "Fifth derivative for f1: 360.0\n"
     ]
    }
   ],
   "source": [
    "print(\"Value for f1: {}\".format(f.coefficients[0, 0]))\n",
    "print(\"First derivative for f1: {}\".format(f.coefficients[0, 1]))\n",
    "print(\"Second derivative for f1: {}\".format(f.coefficients[0, 2]))\n",
    "print(\"Third derivative for f1: {}\".format(f.coefficients[0, 3]))\n",
    "print(\"Fourth derivative for f1: {}\".format(f.coefficients[0, 4]))\n",
    "print(\"Fifth derivative for f1: {}\".format(f.coefficients[0, 5]))"
   ]
  },
  {
   "cell_type": "code",
   "execution_count": null,
   "metadata": {},
   "outputs": [],
   "source": []
  }
 ],
 "metadata": {
  "kernelspec": {
   "display_name": "Python 3",
   "language": "python",
   "name": "python3"
  },
  "language_info": {
   "codemirror_mode": {
    "name": "ipython",
    "version": 3
   },
   "file_extension": ".py",
   "mimetype": "text/x-python",
   "name": "python",
   "nbconvert_exporter": "python",
   "pygments_lexer": "ipython3",
   "version": "3.7.3"
  }
 },
 "nbformat": 4,
 "nbformat_minor": 2
}
